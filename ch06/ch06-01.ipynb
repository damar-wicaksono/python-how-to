{
 "cells": [
  {
   "cell_type": "markdown",
   "id": "28f0d468-4cdc-415f-bbe7-4a3a2b8eddda",
   "metadata": {},
   "source": [
    "# _How Do I Set Default Arguments to Make Function Calls Easier?_"
   ]
  },
  {
   "cell_type": "markdown",
   "id": "7a38b1cb-671a-4ce8-a38b-0b69754adefa",
   "metadata": {},
   "source": [
    "## Calling functions with default arguments\n",
    "\n",
    "We've seen this before when sorting a list of integers:"
   ]
  },
  {
   "cell_type": "code",
   "execution_count": 1,
   "id": "07726ee4-dba3-451f-9654-c931c6d798ba",
   "metadata": {},
   "outputs": [
    {
     "data": {
      "text/plain": [
       "[3, 7, 1, 4, 2]"
      ]
     },
     "execution_count": 1,
     "metadata": {},
     "output_type": "execute_result"
    }
   ],
   "source": [
    "numbers = [3, 7, 1, 4, 2]\n",
    "numbers"
   ]
  },
  {
   "cell_type": "code",
   "execution_count": 2,
   "id": "ff7e2355-a4c3-42f4-bbcd-89961d119ae2",
   "metadata": {},
   "outputs": [],
   "source": [
    "numbers.sort()"
   ]
  },
  {
   "cell_type": "code",
   "execution_count": 3,
   "id": "613f153d-81d8-4bd9-a7d8-b9249eefa174",
   "metadata": {},
   "outputs": [
    {
     "data": {
      "text/plain": [
       "[1, 2, 3, 4, 7]"
      ]
     },
     "execution_count": 3,
     "metadata": {},
     "output_type": "execute_result"
    }
   ],
   "source": [
    "numbers"
   ]
  },
  {
   "cell_type": "markdown",
   "id": "27e69aaf-155d-440d-9517-ac4c55a8bb4d",
   "metadata": {},
   "source": [
    "**By default**, the `sort()` method sorts the list in ascending order.\n",
    "Consider the signature of the method:"
   ]
  },
  {
   "cell_type": "code",
   "execution_count": 4,
   "id": "3880afdb-ace0-425e-a44d-4ba7029def85",
   "metadata": {},
   "outputs": [
    {
     "name": "stdout",
     "output_type": "stream",
     "text": [
      "Help on built-in function sort:\n",
      "\n",
      "sort(*, key=None, reverse=False) method of builtins.list instance\n",
      "    Sort the list in ascending order and return None.\n",
      "    \n",
      "    The sort is in-place (i.e. the list itself is modified) and stable (i.e. the\n",
      "    order of two equal elements is maintained).\n",
      "    \n",
      "    If a key function is given, apply it once to each list item and sort them,\n",
      "    ascending or descending, according to their function values.\n",
      "    \n",
      "    The reverse flag can be set to sort in descending order.\n",
      "\n"
     ]
    }
   ],
   "source": [
    "help(numbers.sort)"
   ]
  },
  {
   "cell_type": "markdown",
   "id": "972b7812-e216-46f5-8daf-899faa805aa0",
   "metadata": {},
   "source": [
    "There are other parameters here: `key` and `reverse`. Both have default values. The parameter `reverse` is by default set to `False` such that by default the sorting is in ascending order.\n",
    "If we want to sort the list in descending order:"
   ]
  },
  {
   "cell_type": "code",
   "execution_count": 5,
   "id": "f9056b41-2962-4668-b871-d4138238ced8",
   "metadata": {},
   "outputs": [],
   "source": [
    "numbers.sort(reverse=True)"
   ]
  },
  {
   "cell_type": "code",
   "execution_count": 6,
   "id": "38ad1bff-974c-4a2f-a55f-580af816ed2f",
   "metadata": {},
   "outputs": [
    {
     "data": {
      "text/plain": [
       "[7, 4, 3, 2, 1]"
      ]
     },
     "execution_count": 6,
     "metadata": {},
     "output_type": "execute_result"
    }
   ],
   "source": [
    "numbers"
   ]
  },
  {
   "cell_type": "markdown",
   "id": "aef410dc-3443-4fe8-8f9f-ab5960f8b006",
   "metadata": {},
   "source": [
    "## Defining functions with default arguments\n",
    "\n",
    "Let's consider the following function that operates on an instance of `Task` class. It changes the status of a task to complete.\n",
    "The serves one purpose take few arguments."
   ]
  },
  {
   "cell_type": "code",
   "execution_count": 7,
   "id": "fa92b48b-96ab-428b-aaf6-95a263b0c036",
   "metadata": {},
   "outputs": [],
   "source": [
    "class Task:\n",
    "    def __init__(self, title, description, urgency):\n",
    "        self.title = title\n",
    "        self.description = description\n",
    "        self.urgency = urgency"
   ]
  },
  {
   "cell_type": "code",
   "execution_count": 8,
   "id": "4e6ba9ee-0918-4800-a1c7-c684271601b3",
   "metadata": {},
   "outputs": [],
   "source": [
    "def complete_task(task):\n",
    "    task.status = \"completed\"\n",
    "    print(f\"{task.title}'s status: {task.status}\")"
   ]
  },
  {
   "cell_type": "code",
   "execution_count": 9,
   "id": "20b206f9-7ec3-4c16-b9e6-cc2ad7f2b3f5",
   "metadata": {},
   "outputs": [],
   "source": [
    "task = Task(\"Homework\", \"Physics and math\", 5)"
   ]
  },
  {
   "cell_type": "code",
   "execution_count": 10,
   "id": "1169c7ee-95dd-46da-a9d8-75ebf1373bd5",
   "metadata": {},
   "outputs": [
    {
     "name": "stdout",
     "output_type": "stream",
     "text": [
      "Homework's status: completed\n"
     ]
    }
   ],
   "source": [
    "complete_task(task)"
   ]
  },
  {
   "cell_type": "markdown",
   "id": "e8c6248e-d4d7-4653-ae1a-25a448149f9e",
   "metadata": {},
   "source": [
    "Now we want to update the function `complete_task()` to allow us adding a completion note on the task:"
   ]
  },
  {
   "cell_type": "code",
   "execution_count": 11,
   "id": "6cad2e89-d2eb-4e13-8ef5-d4ac09c06ba3",
   "metadata": {},
   "outputs": [],
   "source": [
    "def complete_task(task, note):\n",
    "    task.status = \"completed\"\n",
    "    task.note = note\n",
    "    print(f\"{task.title}'s status: {task.status}; note: {task.note}\")"
   ]
  },
  {
   "cell_type": "markdown",
   "id": "cdf1f281-1f08-44cd-a469-46267104b7ef",
   "metadata": {},
   "source": [
    "However, most of the use cases of this function does not require adding a completion note:"
   ]
  },
  {
   "cell_type": "code",
   "execution_count": 12,
   "id": "82a47722-ff2b-40ae-a2d2-67cd9a28e5f0",
   "metadata": {},
   "outputs": [],
   "source": [
    "task_1 = Task(\"Housechore\", \"mop\", 1)\n",
    "task_2 = Task(\"Programming\", \"review\", 2)"
   ]
  },
  {
   "cell_type": "code",
   "execution_count": 13,
   "id": "51bf0831-2ec4-48ca-8f0e-7dfa96563f94",
   "metadata": {},
   "outputs": [
    {
     "name": "stdout",
     "output_type": "stream",
     "text": [
      "Housechore's status: completed; note: great!\n"
     ]
    }
   ],
   "source": [
    "complete_task(task_1, \"great!\")"
   ]
  },
  {
   "cell_type": "code",
   "execution_count": 14,
   "id": "48089e0f-5be8-483a-b4da-d503fc3e5003",
   "metadata": {},
   "outputs": [
    {
     "name": "stdout",
     "output_type": "stream",
     "text": [
      "Homework's status: completed; note: \n"
     ]
    }
   ],
   "source": [
    "complete_task(task, \"\")"
   ]
  },
  {
   "cell_type": "markdown",
   "id": "be26ae8d-d64d-4368-8486-9be08cc04551",
   "metadata": {},
   "source": [
    "In the end, we may end up repeating ourselves by passing an empty string everytime we call the function.\n",
    "This is where setting a default argument comes in:"
   ]
  },
  {
   "cell_type": "code",
   "execution_count": 15,
   "id": "0a48c45d-29bc-4936-8179-7681394618c4",
   "metadata": {},
   "outputs": [],
   "source": [
    "def complete_task(task, note=\"\"):\n",
    "    task.status = \"completed\"\n",
    "    task.note = note\n",
    "    print(f\"{task.title}'s status: {task.status}; note: {task.note}\")    "
   ]
  },
  {
   "cell_type": "code",
   "execution_count": 16,
   "id": "43d079ee-105f-4e3e-b45f-4eb87bd6d884",
   "metadata": {},
   "outputs": [],
   "source": [
    "task_1 = Task(\"Housechore\", \"mop\", 1)\n",
    "task_2 = Task(\"Programming\", \"review\", 2)"
   ]
  },
  {
   "cell_type": "markdown",
   "id": "c3516523-64f3-4a40-93a8-90745eb633ef",
   "metadata": {},
   "source": [
    "Now we can call the function with note as an argument:"
   ]
  },
  {
   "cell_type": "code",
   "execution_count": 17,
   "id": "af94cd90-7388-497d-8363-ae327463e557",
   "metadata": {},
   "outputs": [
    {
     "name": "stdout",
     "output_type": "stream",
     "text": [
      "Housechore's status: completed; note: Great!\n"
     ]
    }
   ],
   "source": [
    "complete_task(task_1, \"Great!\")"
   ]
  },
  {
   "cell_type": "markdown",
   "id": "62c99d05-2f2c-4b05-b63b-e8ff1feba9ff",
   "metadata": {},
   "source": [
    "and without an argument:"
   ]
  },
  {
   "cell_type": "code",
   "execution_count": 18,
   "id": "dc46bf9d-2b88-47f1-84ec-0759121a2753",
   "metadata": {},
   "outputs": [
    {
     "name": "stdout",
     "output_type": "stream",
     "text": [
      "Programming's status: completed; note: \n"
     ]
    }
   ],
   "source": [
    "complete_task(task_2)"
   ]
  },
  {
   "cell_type": "markdown",
   "id": "d7312810-ee5a-40ac-aee0-785c85cf308c",
   "metadata": {},
   "source": [
    "Following our development process, we went through the following:\n",
    "\n",
    "- First iteration: a simple single-parameter function.\n",
    "- Second iteration: Now I need to add a completion note, add a new parameter.\n",
    "- Third iteration: I see that most of the times adding note is not necessary; the function is called with an empty string. Set the default to an empty string to avoid repetition in the most widely use cases."
   ]
  },
  {
   "cell_type": "markdown",
   "id": "6fadef5d-f156-4a66-85ad-627454389fb7",
   "metadata": {},
   "source": [
    "At the third iteration we reach a sweet point of convenience and flexibility.\n",
    "For the user of the function, convenience here means that they don't need to specify additional argument in most of use cases.\n",
    "For the developer of the function, convenience here means avoiding user making mistake specifying unnecessary arguments.\n",
    "\n",
    "In terms of flexibility, we add a new feature to the existing function without changing the old calling signature. All the previous calls that don't contain \"note\" argument are still valid."
   ]
  },
  {
   "cell_type": "markdown",
   "id": "6b38485e-baf4-4454-a352-31ea95201186",
   "metadata": {},
   "source": [
    "## Avoiding the pitfall of setting default arguments for mutable parameters\n",
    "\n",
    "This is one of the most famous pitfalls in Python.\n",
    "Consider the following function:"
   ]
  },
  {
   "cell_type": "code",
   "execution_count": 19,
   "id": "13e7db01-ac04-43b7-8543-6a1cb9f12e1e",
   "metadata": {},
   "outputs": [],
   "source": [
    "def complete_task(task, grouped_tasks = []):\n",
    "    task.status = \"completed\"\n",
    "    grouped_tasks.append(task.title)\n",
    "\n",
    "    return grouped_tasks"
   ]
  },
  {
   "cell_type": "markdown",
   "id": "86de5649-409a-4457-9337-5c1966cba833",
   "metadata": {},
   "source": [
    "Here the idea of the function is besides setting the status of a task to complete, we would append the title of the task in a list.\n",
    "If the function is called without the optional argument, an empty list is used instead."
   ]
  },
  {
   "cell_type": "code",
   "execution_count": 20,
   "id": "bfa47e5f-dd68-437b-97e9-93bdde5daeb7",
   "metadata": {},
   "outputs": [],
   "source": [
    "task_0 = Task(\"Homework\", \"Physics and math\", 5)\n",
    "task_1 = Task(\"Fishing\", \"Fishing at the lake\", 3)"
   ]
  },
  {
   "cell_type": "markdown",
   "id": "42afac6f-47b7-4a75-adcf-56ea58a207b1",
   "metadata": {},
   "source": [
    "If we call the function without the optional argument we should get a list with one element:"
   ]
  },
  {
   "cell_type": "code",
   "execution_count": 21,
   "id": "6c3beab5-eb64-4ee9-88f5-76e4616ba175",
   "metadata": {},
   "outputs": [
    {
     "data": {
      "text/plain": [
       "['Homework']"
      ]
     },
     "execution_count": 21,
     "metadata": {},
     "output_type": "execute_result"
    }
   ],
   "source": [
    "work_tasks = complete_task(task_0)\n",
    "work_tasks"
   ]
  },
  {
   "cell_type": "markdown",
   "id": "0c00ee1a-3749-4982-82fa-2be7f9cd4e39",
   "metadata": {},
   "source": [
    "Indeed, let's call with another task, we should get a list with one element because the default is an empty list:"
   ]
  },
  {
   "cell_type": "code",
   "execution_count": 22,
   "id": "7741120b-d82a-4830-a318-6b37aeca95aa",
   "metadata": {},
   "outputs": [
    {
     "data": {
      "text/plain": [
       "['Homework', 'Fishing']"
      ]
     },
     "execution_count": 22,
     "metadata": {},
     "output_type": "execute_result"
    }
   ],
   "source": [
    "play_tasks = complete_task(task_1)\n",
    "play_tasks"
   ]
  },
  {
   "cell_type": "markdown",
   "id": "d12ae7dc-e3de-4d44-903c-97b68bf62a2e",
   "metadata": {},
   "source": [
    "Nope! We have a list of two elements. What happened?\n",
    "Actually these two lists are actually the same object:"
   ]
  },
  {
   "cell_type": "code",
   "execution_count": 23,
   "id": "8cbc8940-3852-4e2e-b68c-58210c09d9b1",
   "metadata": {},
   "outputs": [
    {
     "data": {
      "text/plain": [
       "(2585208489280, 2585208489280)"
      ]
     },
     "execution_count": 23,
     "metadata": {},
     "output_type": "execute_result"
    }
   ],
   "source": [
    "id(work_tasks), id(play_tasks)"
   ]
  },
  {
   "cell_type": "code",
   "execution_count": 24,
   "id": "208ca7a0-49e6-490c-8023-376444b778dd",
   "metadata": {},
   "outputs": [
    {
     "data": {
      "text/plain": [
       "True"
      ]
     },
     "execution_count": 24,
     "metadata": {},
     "output_type": "execute_result"
    }
   ],
   "source": [
    "work_tasks is play_tasks"
   ]
  },
  {
   "cell_type": "markdown",
   "id": "35ccfb4f-b8c9-4e89-bacf-41316273c7c9",
   "metadata": {},
   "source": [
    "Why? **Python evaluates the function signature when it is defined.** Any mutable default arguments are created during evaluation and become part of the function.\n",
    "If the function body modifies the mutable arguments, these modifications are carried from one call to another.\n",
    "Actually, if a mutable argument is used, a particular object is used for that argument."
   ]
  },
  {
   "cell_type": "code",
   "execution_count": 25,
   "id": "ec650b45-a298-472d-96ca-14dc2dbed904",
   "metadata": {},
   "outputs": [],
   "source": [
    "def append_task(task, tasks=[]):\n",
    "    tasks.append(task)\n",
    "    print(f\"task: {tasks}; id: {id(tasks)}\")"
   ]
  },
  {
   "cell_type": "markdown",
   "id": "c44b2fbd-4855-431a-b68a-ea40f665bb5f",
   "metadata": {},
   "source": [
    "Let's check the default of this function:"
   ]
  },
  {
   "cell_type": "code",
   "execution_count": 26,
   "id": "ab239840-e586-4882-9c09-9c48956b2d43",
   "metadata": {},
   "outputs": [
    {
     "data": {
      "text/plain": [
       "([],)"
      ]
     },
     "execution_count": 26,
     "metadata": {},
     "output_type": "execute_result"
    }
   ],
   "source": [
    "append_task.__defaults__"
   ]
  },
  {
   "cell_type": "markdown",
   "id": "ac9596b3-cd03-4b62-9b72-9e0ae5e5c7f8",
   "metadata": {},
   "source": [
    "which is a tuple whose first element is the empty list we set as the default. It has the following id:"
   ]
  },
  {
   "cell_type": "code",
   "execution_count": 27,
   "id": "f103b20c-94ee-4f4d-a608-e71e6f7a72af",
   "metadata": {},
   "outputs": [
    {
     "data": {
      "text/plain": [
       "2585208666496"
      ]
     },
     "execution_count": 27,
     "metadata": {},
     "output_type": "execute_result"
    }
   ],
   "source": [
    "id(append_task.__defaults__[0])"
   ]
  },
  {
   "cell_type": "markdown",
   "id": "b102e9f1-cc49-4fff-92b3-fafb2e01b48a",
   "metadata": {},
   "source": [
    "Suppose we call this function without the optional argument:"
   ]
  },
  {
   "cell_type": "code",
   "execution_count": 28,
   "id": "443fde2b-3f23-4cf4-88e9-0b3621f572e2",
   "metadata": {},
   "outputs": [
    {
     "name": "stdout",
     "output_type": "stream",
     "text": [
      "task: ['Homework']; id: 2585208666496\n"
     ]
    }
   ],
   "source": [
    "append_task(\"Homework\")"
   ]
  },
  {
   "cell_type": "code",
   "execution_count": 29,
   "id": "354042b8-9b0a-43bf-9ba5-82af40f93098",
   "metadata": {},
   "outputs": [
    {
     "name": "stdout",
     "output_type": "stream",
     "text": [
      "task: ['Homework', 'Dishwashing']; id: 2585208666496\n"
     ]
    }
   ],
   "source": [
    "append_task(\"Dishwashing\")"
   ]
  },
  {
   "cell_type": "markdown",
   "id": "1aeeef1d-3a9e-4879-af59-816e54b20a82",
   "metadata": {},
   "source": [
    "We keep modifying the same list between one function call to another. And indeed the default of this function has been altered:"
   ]
  },
  {
   "cell_type": "code",
   "execution_count": 30,
   "id": "7b12aad9-d181-4abd-ac4f-ac4bad18a409",
   "metadata": {},
   "outputs": [
    {
     "data": {
      "text/plain": [
       "(['Homework', 'Dishwashing'],)"
      ]
     },
     "execution_count": 30,
     "metadata": {},
     "output_type": "execute_result"
    }
   ],
   "source": [
    "append_task.__defaults__"
   ]
  },
  {
   "cell_type": "markdown",
   "id": "66a459f3-4e5e-4ed6-8efd-19aa187f3d24",
   "metadata": {},
   "source": [
    "The goal of the function is actually passing an optional mutable argument so that the body of the function can modify it when such an argument is passed. If not passed, then there should not be any mutable instance that got modified.\n",
    "A better implementation is therefore:"
   ]
  },
  {
   "cell_type": "code",
   "execution_count": 31,
   "id": "4e943a98-7df7-41a1-8977-07850cd9912b",
   "metadata": {},
   "outputs": [],
   "source": [
    "def append_task(task, tasks=None):\n",
    "    if tasks is None:\n",
    "        tasks = []\n",
    "\n",
    "    tasks.append(task)\n",
    "    print(f\"task: {tasks}; id: {id(tasks)}\")"
   ]
  },
  {
   "cell_type": "code",
   "execution_count": 32,
   "id": "f943597a-a89c-4c9e-81e4-0be659c54ca3",
   "metadata": {},
   "outputs": [
    {
     "name": "stdout",
     "output_type": "stream",
     "text": [
      "task: ['Homework']; id: 2585208507392\n"
     ]
    }
   ],
   "source": [
    "append_task(\"Homework\")"
   ]
  },
  {
   "cell_type": "code",
   "execution_count": 33,
   "id": "0636137a-5905-4b4b-8349-28da3bcca52b",
   "metadata": {},
   "outputs": [
    {
     "name": "stdout",
     "output_type": "stream",
     "text": [
      "task: ['Dishwashing']; id: 2585208710208\n"
     ]
    }
   ],
   "source": [
    "append_task(\"Dishwashing\")"
   ]
  },
  {
   "cell_type": "markdown",
   "id": "b8ff4e3c-7328-487b-a1fb-a70f0a6ea484",
   "metadata": {},
   "source": [
    "We have two different list instances everytime the function is called without the optional argument.\n",
    "We can still pass the argument that kept the same instance from one call to another:"
   ]
  },
  {
   "cell_type": "code",
   "execution_count": 34,
   "id": "1b3446a3-d52d-4906-b9a8-6f8ae93ee1b7",
   "metadata": {},
   "outputs": [
    {
     "data": {
      "text/plain": [
       "2585208488064"
      ]
     },
     "execution_count": 34,
     "metadata": {},
     "output_type": "execute_result"
    }
   ],
   "source": [
    "tasks = []\n",
    "id(tasks)"
   ]
  },
  {
   "cell_type": "code",
   "execution_count": 35,
   "id": "356afab7-5229-4916-bac0-deeeba96523e",
   "metadata": {},
   "outputs": [
    {
     "name": "stdout",
     "output_type": "stream",
     "text": [
      "task: ['Homework']; id: 2585208488064\n"
     ]
    }
   ],
   "source": [
    "append_task(\"Homework\", tasks)"
   ]
  },
  {
   "cell_type": "code",
   "execution_count": 36,
   "id": "acb955f7-532c-46e8-945e-94582ebd9ee6",
   "metadata": {},
   "outputs": [
    {
     "name": "stdout",
     "output_type": "stream",
     "text": [
      "task: ['Homework', 'Dishwashing']; id: 2585208488064\n"
     ]
    }
   ],
   "source": [
    "append_task(\"Dishwashing\", tasks)"
   ]
  },
  {
   "cell_type": "markdown",
   "id": "2050901f-266d-47f8-8aaf-cbf26a75484e",
   "metadata": {},
   "source": [
    "## Challenges\n",
    "\n",
    "Cory wants to show his students that the default arguments are evaluated when a function is defined not when it is called."
   ]
  },
  {
   "cell_type": "code",
   "execution_count": 37,
   "id": "c2d5db9a-6eed-4f13-8e76-33116a52fc33",
   "metadata": {},
   "outputs": [],
   "source": [
    "from datetime import datetime"
   ]
  },
  {
   "cell_type": "code",
   "execution_count": 38,
   "id": "40d8ac60-83b9-4367-92db-4aa824e62ba4",
   "metadata": {},
   "outputs": [
    {
     "name": "stdout",
     "output_type": "stream",
     "text": [
      "2024-03-01 18:14:10.805946\n"
     ]
    }
   ],
   "source": [
    "print(datetime.today())\n",
    "def my_function(timestamp = datetime.today()):\n",
    "    return timestamp"
   ]
  },
  {
   "cell_type": "code",
   "execution_count": 39,
   "id": "38a81029-319d-45fd-b33a-371fa8a9dd69",
   "metadata": {},
   "outputs": [
    {
     "name": "stdout",
     "output_type": "stream",
     "text": [
      "2024-03-01 18:14:10.805946\n"
     ]
    }
   ],
   "source": [
    "print(my_function())"
   ]
  },
  {
   "cell_type": "code",
   "execution_count": 40,
   "id": "7a481fe4-467e-409a-b01d-c8a5ee9bdd33",
   "metadata": {},
   "outputs": [
    {
     "name": "stdout",
     "output_type": "stream",
     "text": [
      "2024-03-01 18:14:10.805946\n"
     ]
    }
   ],
   "source": [
    "print(my_function())"
   ]
  },
  {
   "cell_type": "code",
   "execution_count": 41,
   "id": "7e1c9b90-810a-4d2d-a0d4-30ca71fa53ec",
   "metadata": {},
   "outputs": [
    {
     "data": {
      "text/plain": [
       "datetime.datetime(2024, 3, 1, 18, 14, 10, 864986)"
      ]
     },
     "execution_count": 41,
     "metadata": {},
     "output_type": "execute_result"
    }
   ],
   "source": [
    "my_function(datetime.today())"
   ]
  },
  {
   "cell_type": "code",
   "execution_count": 42,
   "id": "463be80f-a949-4656-9b80-de779b25a288",
   "metadata": {},
   "outputs": [
    {
     "data": {
      "text/plain": [
       "datetime.datetime(2024, 3, 1, 18, 14, 10, 912709)"
      ]
     },
     "execution_count": 42,
     "metadata": {},
     "output_type": "execute_result"
    }
   ],
   "source": [
    "my_function(datetime.today())"
   ]
  },
  {
   "cell_type": "code",
   "execution_count": 43,
   "id": "c0741672-1739-4bec-94f4-63df9a07504c",
   "metadata": {},
   "outputs": [
    {
     "data": {
      "text/plain": [
       "datetime.datetime(2024, 3, 1, 18, 14, 10, 930559)"
      ]
     },
     "execution_count": 43,
     "metadata": {},
     "output_type": "execute_result"
    }
   ],
   "source": [
    "my_function(datetime.today())"
   ]
  },
  {
   "cell_type": "markdown",
   "id": "c87e2ad9-c064-4062-9f83-d3ac91d7806c",
   "metadata": {},
   "source": [
    "Calling the function without the optional argument basically returns the same object that is created when the function definition is evaluated. The default argument remains the same from one call to another. Compare that with the case when we explicitly call the function with a new `datetime` instance; the outcome differs."
   ]
  }
 ],
 "metadata": {
  "kernelspec": {
   "display_name": "Python 3 (ipykernel)",
   "language": "python",
   "name": "python3"
  },
  "language_info": {
   "codemirror_mode": {
    "name": "ipython",
    "version": 3
   },
   "file_extension": ".py",
   "mimetype": "text/x-python",
   "name": "python",
   "nbconvert_exporter": "python",
   "pygments_lexer": "ipython3",
   "version": "3.9.18"
  }
 },
 "nbformat": 4,
 "nbformat_minor": 5
}
